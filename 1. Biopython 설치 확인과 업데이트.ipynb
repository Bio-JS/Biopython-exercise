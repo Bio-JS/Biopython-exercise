{
 "cells": [
  {
   "cell_type": "markdown",
   "id": "59e01b58",
   "metadata": {},
   "source": [
    "# 바이오파이썬 설치 확인과 업데이트\n",
    "## Markdown이란?\n",
    "* 문서화할수 있는 문법\n",
    "* 문서화된 셀은 실행되지 않음\n",
    "* esc 키를 누르고 M을 누르면 markdown화됨 = 실행 X\n",
    "* esc 키를 누르고 Y를 누르면 다시 코드화 = 실행 O\n",
    "### 실행방법은?\n",
    "* Shift + Enter    or    Ctrl + Enter\n",
    "### 기본적인 인터페이스 \n",
    "* a 키를 누르면 위에 셀이 추가됨\n",
    "* b 키를 누르면 아래에 셀이 추가됨\n",
    "* dd 키를 누르면 셀이 삭제됨\n",
    "### 전체적인 단축키는 H 키 누르면 확인 가능\n"
   ]
  },
  {
   "cell_type": "code",
   "execution_count": 1,
   "id": "394d5fec",
   "metadata": {},
   "outputs": [
    {
     "name": "stdout",
     "output_type": "stream",
     "text": [
      "welcome biopython\n"
     ]
    }
   ],
   "source": [
    "print(\"welcome biopython\")"
   ]
  },
  {
   "cell_type": "code",
   "execution_count": 4,
   "id": "713b930d",
   "metadata": {},
   "outputs": [],
   "source": [
    "import Bio"
   ]
  },
  {
   "cell_type": "code",
   "execution_count": 6,
   "id": "d270e136",
   "metadata": {},
   "outputs": [
    {
     "data": {
      "text/plain": [
       "'1.79'"
      ]
     },
     "execution_count": 6,
     "metadata": {},
     "output_type": "execute_result"
    }
   ],
   "source": [
    "Bio.__version__  #바이오파이썬 버전 확인"
   ]
  },
  {
   "cell_type": "code",
   "execution_count": 7,
   "id": "c3938c37",
   "metadata": {},
   "outputs": [
    {
     "name": "stdout",
     "output_type": "stream",
     "text": [
      "Requirement already satisfied: biopython in c:\\programdata\\anaconda3\\lib\\site-packages (1.79)\n",
      "Requirement already satisfied: numpy in c:\\programdata\\anaconda3\\lib\\site-packages (from biopython) (1.20.3)\n",
      "Note: you may need to restart the kernel to use updated packages.\n"
     ]
    }
   ],
   "source": [
    "pip install biopython --upgrade"
   ]
  },
  {
   "cell_type": "code",
   "execution_count": 6,
   "id": "20fcbb9b",
   "metadata": {},
   "outputs": [
    {
     "name": "stdout",
     "output_type": "stream",
     "text": [
      "Collection of modules for dealing with biological data in Python.\n",
      "\n",
      "The Biopython Project is an international association of developers\n",
      "of freely available Python tools for computational molecular biology.\n",
      "\n",
      "https://biopython.org\n",
      "\n"
     ]
    }
   ],
   "source": [
    "print(Bio.__doc__) # 바이오파이썬의 속성"
   ]
  },
  {
   "cell_type": "code",
   "execution_count": 7,
   "id": "7551aa94",
   "metadata": {},
   "outputs": [
    {
     "name": "stdout",
     "output_type": "stream",
     "text": [
      "['C:\\\\ProgramData\\\\Anaconda3\\\\lib\\\\site-packages\\\\Bio']\n"
     ]
    }
   ],
   "source": [
    "print(Bio.__path__) # 어디에 바이오파이썬이 설치되어 있는가?"
   ]
  }
 ],
 "metadata": {
  "kernelspec": {
   "display_name": "Python 3 (ipykernel)",
   "language": "python",
   "name": "python3"
  },
  "language_info": {
   "codemirror_mode": {
    "name": "ipython",
    "version": 3
   },
   "file_extension": ".py",
   "mimetype": "text/x-python",
   "name": "python",
   "nbconvert_exporter": "python",
   "pygments_lexer": "ipython3",
   "version": "3.9.7"
  }
 },
 "nbformat": 4,
 "nbformat_minor": 5
}
