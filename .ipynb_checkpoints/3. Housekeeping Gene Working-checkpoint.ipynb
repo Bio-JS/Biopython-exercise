{
 "cells": [
  {
   "cell_type": "markdown",
   "id": "26fbb21b",
   "metadata": {},
   "source": [
    "# Housekeeping Gene Working"
   ]
  },
  {
   "cell_type": "code",
   "execution_count": 1,
   "id": "fc8c1004",
   "metadata": {},
   "outputs": [],
   "source": [
    "from Bio.Seq import Seq"
   ]
  },
  {
   "cell_type": "code",
   "execution_count": 4,
   "id": "6beb923e",
   "metadata": {},
   "outputs": [
    {
     "name": "stdout",
     "output_type": "stream",
     "text": [
      "7\n",
      "9\n",
      "11\n",
      "5\n"
     ]
    }
   ],
   "source": [
    "hk_seq = Seq(\"AGCCATTTCTACTTTGCCCGCCCACAGATGTA\")\n",
    "count_A = hk_seq.count(\"A\")\n",
    "count_T = hk_seq.count(\"T\")\n",
    "count_C = hk_seq.count(\"C\")\n",
    "count_G = hk_seq.count(\"G\")\n",
    "print(count_A)\n",
    "print(count_T)\n",
    "print(count_C)\n",
    "print(count_G)"
   ]
  },
  {
   "cell_type": "markdown",
   "id": "6b9d453e",
   "metadata": {},
   "source": [
    "# GC-contents 계산"
   ]
  },
  {
   "cell_type": "code",
   "execution_count": 12,
   "id": "6d39f795",
   "metadata": {},
   "outputs": [
    {
     "name": "stdout",
     "output_type": "stream",
     "text": [
      "32\n"
     ]
    }
   ],
   "source": [
    "print(len(hk_seq)) #housekeeping 유전자 전체 서열의 개수 세기"
   ]
  },
  {
   "cell_type": "code",
   "execution_count": 11,
   "id": "985fae01",
   "metadata": {},
   "outputs": [
    {
     "name": "stdout",
     "output_type": "stream",
     "text": [
      "50.0\n"
     ]
    }
   ],
   "source": [
    "count_G = hk_seq.count(\"G\")\n",
    "count_C = hk_seq.count(\"C\")\n",
    "GC_contents = (count_G + count_C) / len(hk_seq) * 100\n",
    "print(GC_contents) # 전체32개 서열중에 G와 C의 % 함량 구하기"
   ]
  },
  {
   "cell_type": "markdown",
   "id": "487afc19",
   "metadata": {},
   "source": [
    "# Housekeeping Gene 전사와 번역하기"
   ]
  },
  {
   "cell_type": "code",
   "execution_count": 15,
   "id": "2c2db1c1",
   "metadata": {},
   "outputs": [
    {
     "name": "stdout",
     "output_type": "stream",
     "text": [
      "AGCCATTTCTACTTTGCCCGCCCACAGATGTA\n",
      "AGCCAUUUCUACUUUGCCCGCCCACAGAUGUA\n",
      "SHFYFARPQM\n"
     ]
    }
   ],
   "source": [
    "dna = Seq(\"AGCCATTTCTACTTTGCCCGCCCACAGATGTA\")\n",
    "mrna = dna.transcribe()\n",
    "protein = dna.translate()\n",
    "print(dna) # DNA 서열보기\n",
    "print(mrna) # 전사된 mRNA 서열보기\n",
    "print(protein) # 번역된 아미노산 서열보기"
   ]
  },
  {
   "cell_type": "markdown",
   "id": "7c3ee12f",
   "metadata": {},
   "source": [
    "# 코돈표 출력하기"
   ]
  },
  {
   "cell_type": "code",
   "execution_count": 10,
   "id": "7e617fc2",
   "metadata": {},
   "outputs": [],
   "source": [
    "from Bio.Data import CodonTable"
   ]
  },
  {
   "cell_type": "code",
   "execution_count": 11,
   "id": "3d7da57a",
   "metadata": {
    "scrolled": true
   },
   "outputs": [
    {
     "name": "stdout",
     "output_type": "stream",
     "text": [
      "Table 1 Standard, SGC0\n",
      "\n",
      "  |  T      |  C      |  A      |  G      |\n",
      "--+---------+---------+---------+---------+--\n",
      "T | TTT F   | TCT S   | TAT Y   | TGT C   | T\n",
      "T | TTC F   | TCC S   | TAC Y   | TGC C   | C\n",
      "T | TTA L   | TCA S   | TAA Stop| TGA Stop| A\n",
      "T | TTG L(s)| TCG S   | TAG Stop| TGG W   | G\n",
      "--+---------+---------+---------+---------+--\n",
      "C | CTT L   | CCT P   | CAT H   | CGT R   | T\n",
      "C | CTC L   | CCC P   | CAC H   | CGC R   | C\n",
      "C | CTA L   | CCA P   | CAA Q   | CGA R   | A\n",
      "C | CTG L(s)| CCG P   | CAG Q   | CGG R   | G\n",
      "--+---------+---------+---------+---------+--\n",
      "A | ATT I   | ACT T   | AAT N   | AGT S   | T\n",
      "A | ATC I   | ACC T   | AAC N   | AGC S   | C\n",
      "A | ATA I   | ACA T   | AAA K   | AGA R   | A\n",
      "A | ATG M(s)| ACG T   | AAG K   | AGG R   | G\n",
      "--+---------+---------+---------+---------+--\n",
      "G | GTT V   | GCT A   | GAT D   | GGT G   | T\n",
      "G | GTC V   | GCC A   | GAC D   | GGC G   | C\n",
      "G | GTA V   | GCA A   | GAA E   | GGA G   | A\n",
      "G | GTG V   | GCG A   | GAG E   | GGG G   | G\n",
      "--+---------+---------+---------+---------+--\n",
      "['TAA', 'TAG', 'TGA']\n"
     ]
    }
   ],
   "source": [
    "codon_table = CodonTable.unambiguous_dna_by_name[\"Standard\"]\n",
    "print(codon_table)\n",
    "print(codon_table.stop_codons)"
   ]
  },
  {
   "cell_type": "code",
   "execution_count": 12,
   "id": "6597e9cf",
   "metadata": {},
   "outputs": [
    {
     "name": "stdout",
     "output_type": "stream",
     "text": [
      "Table 2 Vertebrate Mitochondrial, SGC1\n",
      "\n",
      "  |  T      |  C      |  A      |  G      |\n",
      "--+---------+---------+---------+---------+--\n",
      "T | TTT F   | TCT S   | TAT Y   | TGT C   | T\n",
      "T | TTC F   | TCC S   | TAC Y   | TGC C   | C\n",
      "T | TTA L   | TCA S   | TAA Stop| TGA W   | A\n",
      "T | TTG L   | TCG S   | TAG Stop| TGG W   | G\n",
      "--+---------+---------+---------+---------+--\n",
      "C | CTT L   | CCT P   | CAT H   | CGT R   | T\n",
      "C | CTC L   | CCC P   | CAC H   | CGC R   | C\n",
      "C | CTA L   | CCA P   | CAA Q   | CGA R   | A\n",
      "C | CTG L   | CCG P   | CAG Q   | CGG R   | G\n",
      "--+---------+---------+---------+---------+--\n",
      "A | ATT I(s)| ACT T   | AAT N   | AGT S   | T\n",
      "A | ATC I(s)| ACC T   | AAC N   | AGC S   | C\n",
      "A | ATA M(s)| ACA T   | AAA K   | AGA Stop| A\n",
      "A | ATG M(s)| ACG T   | AAG K   | AGG Stop| G\n",
      "--+---------+---------+---------+---------+--\n",
      "G | GTT V   | GCT A   | GAT D   | GGT G   | T\n",
      "G | GTC V   | GCC A   | GAC D   | GGC G   | C\n",
      "G | GTA V   | GCA A   | GAA E   | GGA G   | A\n",
      "G | GTG V(s)| GCG A   | GAG E   | GGG G   | G\n",
      "--+---------+---------+---------+---------+--\n",
      "['TAA', 'TAG', 'AGA', 'AGG']\n"
     ]
    }
   ],
   "source": [
    "mitochondrial_table = CodonTable.unambiguous_dna_by_name[\"Vertebrate Mitochondrial\"]\n",
    "print(mitochondrial_table)\n",
    "print(mitochondrial_table.stop_codons)"
   ]
  },
  {
   "cell_type": "markdown",
   "id": "81138313",
   "metadata": {},
   "source": [
    "# Housekeeping Gene 상보적 / 역상보적 서열 만들기\n",
    "\n",
    "* 5' - AGCCATTTCTACTTTGCCCGCCCACAGATGTA - 3'\n",
    "* 3' -                                  - 5'"
   ]
  },
  {
   "cell_type": "code",
   "execution_count": 25,
   "id": "1eb8ba8b",
   "metadata": {},
   "outputs": [
    {
     "name": "stdout",
     "output_type": "stream",
     "text": [
      "TCGGTAAAGATGAAACGGGCGGGTGTCTACAT\n"
     ]
    }
   ],
   "source": [
    "hk_seq = Seq(\"AGCCATTTCTACTTTGCCCGCCCACAGATGTA\")\n",
    "comp_seq = hk_seq.complement()\n",
    "\n",
    "print(comp_seq) # 상보적 서열이 출력되므로 상단 마크다운에 서열 붙여넣기\n"
   ]
  },
  {
   "cell_type": "code",
   "execution_count": 27,
   "id": "2713ab1c",
   "metadata": {},
   "outputs": [
    {
     "name": "stdout",
     "output_type": "stream",
     "text": [
      "TACATCTGTGGGCGGGCAAAGTAGAAATGGCT\n"
     ]
    }
   ],
   "source": [
    "rev_comp_seq = hk_seq.reverse_complement()\n",
    "print(rev_comp_seq) # 역상보적 서열이 출력된다"
   ]
  }
 ],
 "metadata": {
  "kernelspec": {
   "display_name": "Python 3 (ipykernel)",
   "language": "python",
   "name": "python3"
  },
  "language_info": {
   "codemirror_mode": {
    "name": "ipython",
    "version": 3
   },
   "file_extension": ".py",
   "mimetype": "text/x-python",
   "name": "python",
   "nbconvert_exporter": "python",
   "pygments_lexer": "ipython3",
   "version": "3.9.7"
  }
 },
 "nbformat": 4,
 "nbformat_minor": 5
}
